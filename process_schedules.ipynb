{
 "cells": [
  {
   "cell_type": "markdown",
   "id": "02d76280-ebf2-4fd4-b146-dbea4c416bb4",
   "metadata": {},
   "source": [
    "## Import necessary libraries"
   ]
  },
  {
   "cell_type": "code",
   "execution_count": 2,
   "id": "6c7ef1ca-9cd0-4ea8-9a91-5f222eb90672",
   "metadata": {
    "editable": true,
    "slideshow": {
     "slide_type": ""
    },
    "tags": []
   },
   "outputs": [],
   "source": [
    "import numpy as np\n",
    "import pandas as pd\n",
    "import os"
   ]
  },
  {
   "cell_type": "markdown",
   "id": "13823dc2-f737-4f0a-95f5-47d530088fad",
   "metadata": {},
   "source": [
    "## Define additional groupings"
   ]
  },
  {
   "cell_type": "code",
   "execution_count": 4,
   "id": "f9b60d1a-a098-41e6-8486-c0c048e5d9f2",
   "metadata": {
    "editable": true,
    "slideshow": {
     "slide_type": ""
    },
    "tags": []
   },
   "outputs": [],
   "source": [
    "timberline_sbd = ['Ash Mazuelos',\n",
    "                  'Bets Mergui',\n",
    "                  'Emile Nettavong',\n",
    "                  'Klara Joffe',\n",
    "                  'Luca Tramonte',\n",
    "                  'Noel Hayden',\n",
    "                  'Noelle Overstreet']"
   ]
  },
  {
   "cell_type": "code",
   "execution_count": 5,
   "id": "fcafc414-6864-433c-8d27-3a8451a27e72",
   "metadata": {},
   "outputs": [],
   "source": [
    "programs_codes = ['MM', 'EFF', 'PD', 'ESC', 'KHC', 'PR', 'P', 'PVT', 'FDC', 'CDAY', 'SBC', 'GG', 'AMB', 'desk'] #desk sometimes take lessons\n",
    "school_codes = ['UoC', 'UOC', 'CHS', 'LBB', 'RHS', 'ERS', 'WMT', 'WRS', 'BGV', 'LBS', 'CREM', 'BCS', 'NNDM', 'FLHS', 'TBS', 'RMSC', \n",
    "                'WHS', 'RPS', 'MTR', 'MITF', 'LGR', 'BHG', 'OLS', 'BES', 'NDDM', 'MWSC', 'AGG', 'GHI', 'CCHS', 'DEL', 'JCC']"
   ]
  },
  {
   "cell_type": "markdown",
   "id": "62131ba0-3d47-43a7-84dc-98be4296453a",
   "metadata": {},
   "source": [
    "## Define functions for counting number of available instructors of each category"
   ]
  },
  {
   "cell_type": "code",
   "execution_count": 7,
   "id": "d0238057-3539-40f2-b16a-f00a9ac4a163",
   "metadata": {
    "editable": true,
    "slideshow": {
     "slide_type": ""
    },
    "tags": []
   },
   "outputs": [],
   "source": [
    "# Define a function for calculating the number of available FT Ski instructors each day\n",
    "def get_FT_ski_totals(xlsx_file):\n",
    "\n",
    "    # Keep only skiers available for lessons (not training, testing, etc.)\n",
    "    df_ftski = pd.read_excel(xlsx_file, 'FT Ski', index_col = 0, header = 1)\n",
    "    df_ftski = df_ftski.iloc[df_ftski.index.get_loc('FULL TIME SKI')+1 : ]\n",
    "    df_ftski.replace(programs_codes, 1, inplace=True)\n",
    "    df_ftski.replace(school_codes, 1, inplace=True)\n",
    "    df_ftski = df_ftski.apply(pd.to_numeric, errors='coerce')\n",
    "    df_ftski.replace(np.nan, 0, inplace=True)\n",
    "    df_ftski = df_ftski.astype('int')\n",
    "\n",
    "    # Add in Joe Buckley\n",
    "    df_Joe = pd.read_excel(xlsx_file, 'FT Ski', index_col = 0, header = 1)\n",
    "    df_Joe = df_Joe.loc['Joe Buckley']\n",
    "    df_Joe.replace(1, 0, inplace=True)\n",
    "    df_Joe.replace(programs_codes, 1, inplace=True)\n",
    "    df_Joe.replace(school_codes, 1, inplace=True)\n",
    "    df_Joe = df_Joe.apply(pd.to_numeric, errors='coerce')\n",
    "    df_Joe.replace(np.nan, 0, inplace=True)\n",
    "    df_Joe = df_Joe.astype('int')\n",
    "    df_ftski.loc['Joe Buckley'] = df_Joe\n",
    "\n",
    "    # Return totals\n",
    "    return df_ftski.sum()"
   ]
  },
  {
   "cell_type": "code",
   "execution_count": 8,
   "id": "15f4a040-d5ef-4c95-a364-bfd36049b644",
   "metadata": {},
   "outputs": [],
   "source": [
    "# Dual certs: Jojo, Bella, Fred Ma, Josh Runnigan, Jordan Macdougal, Moos, Russel, LJ"
   ]
  },
  {
   "cell_type": "code",
   "execution_count": 9,
   "id": "2529a9e7-7a15-44d5-88d3-f70d88d30b9c",
   "metadata": {},
   "outputs": [],
   "source": [
    "# Define a function for calculating the number of FT Snowboard instructors each day\n",
    "def get_FT_sbd_totals(xlsx_file, tbl_sbd):\n",
    "\n",
    "    # Keep only snowboarders available for lessons (not training, testing, etc.)\n",
    "    df_sbd_park = pd.read_excel(xlsx_file, 'SBD & Park', index_col = 0, header = 1)\n",
    "    df_sbd = df_sbd_park.iloc[df_sbd_park.index.get_loc('SNOWBOARD')+1 : df_sbd_park.index.get_loc('TERRAIN PARK')]\n",
    "    df_ft_sbd = df_sbd.loc[~df_sbd.index.isin(tbl_sbd)]\n",
    "    df_ft_sbd_copy = df_ft_sbd.copy()\n",
    "    df_ft_sbd_copy.replace(programs_codes, 1, inplace=True)\n",
    "    df_ft_sbd_copy.replace(school_codes, 1, inplace=True)\n",
    "    df_ft_sbd = df_ft_sbd_copy\n",
    "\n",
    "    # Remove scheduled days for fired employee\n",
    "    if xlsx_file == 'schedules/Feb 11 - 24.xlsx':\n",
    "        df_ft_sbd_copy = df_ft_sbd.copy()\n",
    "        df_ft_sbd_copy.loc['Jordan Smart', '2024-02-24'] = 'x'\n",
    "        df_ft_sbd = df_ft_sbd_copy\n",
    "    \n",
    "    df_ft_sbd = df_ft_sbd.apply(pd.to_numeric, errors='coerce')\n",
    "    df_ft_sbd.replace(np.nan, 0, inplace=True)\n",
    "    df_ft_sbd = df_ft_sbd.astype('int')\n",
    "\n",
    "    # Return totals\n",
    "    return df_ft_sbd.sum()"
   ]
  },
  {
   "cell_type": "code",
   "execution_count": 10,
   "id": "2742c606-cf04-4e40-a00e-bbffa9d078fd",
   "metadata": {},
   "outputs": [],
   "source": [
    "# Define a function for calculating the number of Timberline Snowboard instructors each day\n",
    "def get_tbl_sbd_totals(xlsx_file, tbl_sbd):\n",
    "\n",
    "    # Keep only snowboarders available for lessons (not training, testing, etc.)\n",
    "    df_sbd_park = pd.read_excel(xlsx_file, 'SBD & Park', index_col = 0, header = 1)\n",
    "    df_sbd = df_sbd_park.iloc[df_sbd_park.index.get_loc('SNOWBOARD')+1 : df_sbd_park.index.get_loc('TERRAIN PARK')]\n",
    "    df_tbl_sbd = df_sbd.loc[df_sbd.index.isin(tbl_sbd)]\n",
    "    df_tbl_sbd_copy = df_tbl_sbd.copy()\n",
    "    df_tbl_sbd_copy.replace(programs_codes, 1, inplace=True)\n",
    "    df_tbl_sbd_copy.replace(school_codes, 1, inplace=True)\n",
    "    df_tbl_sbd = df_tbl_sbd_copy\n",
    "    df_tbl_sbd = df_tbl_sbd.apply(pd.to_numeric, errors='coerce')\n",
    "    df_tbl_sbd.replace(np.nan, 0, inplace=True)\n",
    "    df_tbl_sbd = df_tbl_sbd.astype('int')\n",
    "\n",
    "    # Return totals\n",
    "    return df_tbl_sbd.sum()"
   ]
  },
  {
   "cell_type": "code",
   "execution_count": 11,
   "id": "cedf2401-9173-445c-beb9-7f9a05ffd554",
   "metadata": {},
   "outputs": [],
   "source": [
    "# Define a function for calculating the number of Timberline ski instructors each day\n",
    "def get_tbl_ski_totals(xlsx_file):\n",
    "    \n",
    "    # Keep only skiers available for lessons (not training, testing, etc.)\n",
    "    df_tbl_ea = pd.read_excel(xlsx_file, 'Timberline & EA', index_col = 0, header = 1)\n",
    "    df_tbl = df_tbl_ea.iloc[df_tbl_ea.index.get_loc('TBL SKI')+1 : df_tbl_ea.index.get_loc('EA SKI')]\n",
    "    df_tbl_copy = df_tbl.copy()\n",
    "    df_tbl_copy.replace(programs_codes, 1, inplace=True)\n",
    "    df_tbl_copy.replace(school_codes, 1, inplace=True)\n",
    "    df_tbl = df_tbl_copy\n",
    "    df_tbl = df_tbl.apply(pd.to_numeric, errors='coerce')\n",
    "    df_tbl.replace(np.nan, 0, inplace=True)\n",
    "    df_tbl = df_tbl.astype('int')\n",
    "\n",
    "    # Return totals\n",
    "    return df_tbl.sum()"
   ]
  },
  {
   "cell_type": "code",
   "execution_count": 12,
   "id": "7d883444-f477-45cf-bcf4-d90bad773bc2",
   "metadata": {},
   "outputs": [],
   "source": [
    "# Define a function for calculating the number of EA ski instructors each day\n",
    "def get_ea_ski_totals(xlsx_file):\n",
    "    \n",
    "    # Keep only skiers available for lessons (not training, testing, etc.)\n",
    "    df_tbl_ea = pd.read_excel(xlsx_file, 'Timberline & EA', index_col = 0, header = 1)\n",
    "    df_ea = df_tbl_ea.iloc[df_tbl_ea.index.get_loc('EA SKI')+1 : ]\n",
    "    df_ea_copy = df_ea.copy()\n",
    "    df_ea_copy.replace(programs_codes, 1, inplace=True)\n",
    "    df_ea_copy.replace(school_codes, 1, inplace=True)\n",
    "    df_ea = df_ea_copy\n",
    "    df_ea = df_ea.apply(pd.to_numeric, errors='coerce')\n",
    "    df_ea.replace(np.nan, 0, inplace=True)\n",
    "    df_ea = df_ea.astype('int')\n",
    "\n",
    "    # Return totals\n",
    "    return df_ea.sum()"
   ]
  },
  {
   "cell_type": "code",
   "execution_count": 13,
   "id": "abb1f9d5-ee8a-498e-bacd-8203a8e31dd6",
   "metadata": {
    "editable": true,
    "slideshow": {
     "slide_type": ""
    },
    "tags": []
   },
   "outputs": [],
   "source": [
    "# Define a function for calculating the number of PT ski instructors each day\n",
    "def get_PT_ski_totals(xlsx_file):\n",
    "    \n",
    "    # Keep only skiers available for lessons (not training, testing, etc.)\n",
    "    df_pt_ski = pd.read_excel(xlsx_file, 'PT Ski', index_col = 0, header = 1)\n",
    "    df_pt_ski = df_pt_ski.iloc[df_pt_ski.index.get_loc('PART TIME SKI')+1 : ]\n",
    "    df_pt_ski.replace(programs_codes, 1, inplace=True)\n",
    "    df_pt_ski.replace(school_codes, 1, inplace=True)\n",
    "    df_pt_ski = df_pt_ski.apply(pd.to_numeric, errors='coerce')\n",
    "    df_pt_ski.replace(np.nan, 0, inplace=True)\n",
    "    df_pt_ski = df_pt_ski.astype('int')\n",
    "\n",
    "    # Return totals\n",
    "    return df_pt_ski.sum()"
   ]
  },
  {
   "cell_type": "markdown",
   "id": "100da14a-ca87-4b94-a158-a5ca18bb21d7",
   "metadata": {},
   "source": [
    "## Retrieve number of instructors in each category as complete timelines"
   ]
  },
  {
   "cell_type": "code",
   "execution_count": 15,
   "id": "d50ad61e-65ac-4e55-9ff0-26b124201b7e",
   "metadata": {
    "editable": true,
    "slideshow": {
     "slide_type": ""
    },
    "tags": []
   },
   "outputs": [],
   "source": [
    "# Specify directory where instructor schedules exist\n",
    "schedules_directory = os.fsencode('schedules')"
   ]
  },
  {
   "cell_type": "code",
   "execution_count": 16,
   "id": "cebee2bf-26a8-4aec-bae5-fc94d3d1cfa0",
   "metadata": {
    "editable": true,
    "slideshow": {
     "slide_type": ""
    },
    "tags": []
   },
   "outputs": [],
   "source": [
    "# Define a function for retrieving all instructor availability totals\n",
    "def get_all_totals(dir):\n",
    "    \n",
    "    # Initialize empty lists to collect each total type\n",
    "    ft_ski_totals = []\n",
    "    tbl_ski_totals = []\n",
    "    ea_ski_totals = []\n",
    "    pt_ski_totals = []\n",
    "    ft_sbd_totals = []\n",
    "    tbl_sbd_totals = []\n",
    "\n",
    "    # Iterate across all schedules and add instructor availabilities to relevant lists\n",
    "    for file in os.listdir(dir):\n",
    "        \n",
    "        filename = os.fsdecode(file)\n",
    "\n",
    "        # Check if the file is an Excel file\n",
    "        if filename.endswith('.xlsx'): \n",
    "            \n",
    "            temp_xlsx_file = 'schedules/{}'.format(filename)\n",
    "            \n",
    "            ft_ski_totals.append(get_FT_ski_totals(temp_xlsx_file))\n",
    "            tbl_ski_totals.append(get_tbl_ski_totals(temp_xlsx_file))\n",
    "            ea_ski_totals.append(get_ea_ski_totals(temp_xlsx_file))\n",
    "            pt_ski_totals.append(get_PT_ski_totals(temp_xlsx_file))\n",
    "            ft_sbd_totals.append(get_FT_sbd_totals(temp_xlsx_file, timberline_sbd))\n",
    "            tbl_sbd_totals.append(get_tbl_sbd_totals(temp_xlsx_file, timberline_sbd))\n",
    "            \n",
    "        else:\n",
    "            \n",
    "            continue\n",
    "\n",
    "    # Concatenate availability lists into full Series\n",
    "    ft_ski_totals = pd.concat(ft_ski_totals).sort_index()\n",
    "    tbl_ski_totals = pd.concat(tbl_ski_totals).sort_index()\n",
    "    ea_ski_totals = pd.concat(ea_ski_totals).sort_index()\n",
    "    pt_ski_totals = pd.concat(pt_ski_totals).sort_index()\n",
    "    ft_sbd_totals = pd.concat(ft_sbd_totals).sort_index()\n",
    "    tbl_sbd_totals = pd.concat(tbl_sbd_totals).sort_index()\n",
    "\n",
    "    # Return a complete DataFrame with all availabilities\n",
    "    df_all_availabilities = pd.DataFrame(\n",
    "        data = [ft_ski_totals, tbl_ski_totals, ea_ski_totals, pt_ski_totals, ft_sbd_totals, tbl_sbd_totals],\n",
    "        index = ['FT_ski', 'Timberline_ski', 'EA_ski', 'PT_ski', 'FT_sbd', 'Timberline_sbd']).T\n",
    "    return df_all_availabilities"
   ]
  },
  {
   "cell_type": "code",
   "execution_count": 17,
   "id": "42fca3e0-52fe-4bcc-94c0-a1b85741eeaa",
   "metadata": {
    "editable": true,
    "slideshow": {
     "slide_type": ""
    },
    "tags": []
   },
   "outputs": [],
   "source": [
    "# Get all instructor availabilities and calculate relevant totals\n",
    "df_avails = get_all_totals(schedules_directory)\n",
    "df_avails['total_ski'] = df_avails.filter(like='ski').sum(axis = 1)\n",
    "df_avails['total_sbd'] = df_avails.filter(like='sbd').sum(axis = 1)\n",
    "df_avails['total'] = df_avails['total_ski'] + df_avails['total_sbd']"
   ]
  },
  {
   "cell_type": "code",
   "execution_count": 18,
   "id": "97c750d3-123e-46b2-ba67-7002acf0b9d3",
   "metadata": {},
   "outputs": [],
   "source": [
    "# Save processed instructor availabilities to pickle file\n",
    "df_avails.to_pickle(\"./dataframes/df_avails.pkl\")  "
   ]
  },
  {
   "cell_type": "code",
   "execution_count": null,
   "id": "f3392a98-7f3e-48fb-b7fa-23c1264f1ef1",
   "metadata": {
    "editable": true,
    "slideshow": {
     "slide_type": ""
    },
    "tags": []
   },
   "outputs": [],
   "source": []
  }
 ],
 "metadata": {
  "kernelspec": {
   "display_name": "anaconda-panel-2023.05-py310",
   "language": "python",
   "name": "conda-env-anaconda-panel-2023.05-py310-py"
  },
  "language_info": {
   "codemirror_mode": {
    "name": "ipython",
    "version": 3
   },
   "file_extension": ".py",
   "mimetype": "text/x-python",
   "name": "python",
   "nbconvert_exporter": "python",
   "pygments_lexer": "ipython3",
   "version": "3.11.5"
  }
 },
 "nbformat": 4,
 "nbformat_minor": 5
}
