{
 "cells": [
  {
   "cell_type": "code",
   "execution_count": 2,
   "id": "14e17f69-7c46-425d-90e8-95169ad7cb0f",
   "metadata": {},
   "outputs": [],
   "source": [
    "# Import necessary libraries\n",
    "import os\n",
    "from PIL import Image"
   ]
  },
  {
   "cell_type": "code",
   "execution_count": 3,
   "id": "f74e8af2-12cd-4b1d-8d0b-377aa9afe670",
   "metadata": {},
   "outputs": [],
   "source": [
    "# Define relevant directories\n",
    "imp_graphs_directory = os.fsencode('graphs')\n",
    "exp_graphs_directory = os.fsencode('modified_graphs')"
   ]
  },
  {
   "cell_type": "code",
   "execution_count": 4,
   "id": "6b620ce9-abf3-49b9-a167-d081a8b906fc",
   "metadata": {},
   "outputs": [],
   "source": [
    "file_names = [\n",
    "    'sbd_instructor_type_graphs.png',\n",
    "    'sbd_instructor_type_graphs_pct.png',\n",
    "    'booking_trends_graphs_sbd_only.png',\n",
    "    'macro_instructor_type_graphs_wkdy.png',\n",
    "    'booking_trends_graphs.png',\n",
    "    'macro_instructor_type_graphs.png',\n",
    "    'adult_ski_trends_wkdy.png',\n",
    "    'adult_ski_trends_daily.png',\n",
    "    'ski_instructor_type_graphs_pct.png',\n",
    "    'macro_instructor_type_graphs_pct.png',\n",
    "    'macro_instructor_type_graphs_wkdy_pct.png',\n",
    "    'booking_trends_graphs_ski_only.png',\n",
    "    'ski_instructor_type_graphs.png']\n",
    "graph_sets = [2, 2, 4, 9, 4, 9, 3, 3, 4, 9, 9, 4, 4]"
   ]
  },
  {
   "cell_type": "code",
   "execution_count": 5,
   "id": "9f04d6c1-26d6-407c-81eb-40e83dbf5573",
   "metadata": {},
   "outputs": [],
   "source": [
    "def split_graphs(filename, num_graphs):\n",
    "\n",
    "    # Load the image\n",
    "    img_name = '{}/{}'.format(os.fsdecode(imp_graphs_directory), os.fsdecode(filename))\n",
    "    image = Image.open(img_name)\n",
    "    \n",
    "    # Define the number of rows and columns to split into\n",
    "    rows = num_graphs\n",
    "    columns = 1\n",
    "    \n",
    "    # Get the dimensions of the original image\n",
    "    img_width, img_height = image.size\n",
    "    \n",
    "    # Calculate the dimensions of each segment\n",
    "    segment_width = img_width // columns\n",
    "    segment_height = img_height // rows\n",
    "    \n",
    "    # Loop through the rows and columns and save each segment\n",
    "    for row in range(rows):\n",
    "        for col in range(columns):\n",
    "            # Calculate the position of the segment\n",
    "            left = col * segment_width\n",
    "            upper = row * segment_height\n",
    "            right = (col + 1) * segment_width\n",
    "            lower = (row + 1) * segment_height\n",
    "    \n",
    "            # Crop the segment\n",
    "            segment = image.crop((left, upper, right, lower))\n",
    "    \n",
    "            # Save the segment\n",
    "            exp_name = '{}/{}_{}.png'.format(os.fsdecode(exp_graphs_directory), os.fsdecode(filename).split('.')[0], row)\n",
    "            segment.save(exp_name)"
   ]
  },
  {
   "cell_type": "code",
   "execution_count": 6,
   "id": "a25b717d-ee55-4892-a64d-6b96dfba4210",
   "metadata": {},
   "outputs": [],
   "source": [
    "for file, num in zip(file_names, graph_sets):\n",
    "    split_graphs(file, num)"
   ]
  },
  {
   "cell_type": "code",
   "execution_count": null,
   "id": "76cfcd6c-85b2-477b-a538-8c96f064613b",
   "metadata": {},
   "outputs": [],
   "source": []
  }
 ],
 "metadata": {
  "kernelspec": {
   "display_name": "anaconda-2024.02-py310",
   "language": "python",
   "name": "conda-env-anaconda-2024.02-py310-py"
  },
  "language_info": {
   "codemirror_mode": {
    "name": "ipython",
    "version": 3
   },
   "file_extension": ".py",
   "mimetype": "text/x-python",
   "name": "python",
   "nbconvert_exporter": "python",
   "pygments_lexer": "ipython3",
   "version": "3.10.14"
  }
 },
 "nbformat": 4,
 "nbformat_minor": 5
}
